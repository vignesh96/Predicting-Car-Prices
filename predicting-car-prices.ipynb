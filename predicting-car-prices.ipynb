{
 "cells": [
  {
   "cell_type": "markdown",
   "metadata": {
    "collapsed": true
   },
   "source": [
    "# Predicting Car Prices"
   ]
  },
  {
   "cell_type": "markdown",
   "metadata": {},
   "source": [
    "## Introduction"
   ]
  },
  {
   "cell_type": "markdown",
   "metadata": {},
   "source": [
    "In this project, we will predict a car's market price using its attributes. The data set we will be working with contains information on various cars. For each car we have information about the technical aspects of the vehicle such as the motor's displacement, the weight of the car, the miles per gallon, how fast the car accelerates, and more. We can read more about the data set <a href=\"https://archive.ics.uci.edu/ml/datasets/automobile\">here</a> and can download it directly from <a href=\"https://archive.ics.uci.edu/ml/machine-learning-databases/autos/imports-85.data\">here</a>."
   ]
  },
  {
   "cell_type": "code",
   "execution_count": 1,
   "metadata": {
    "collapsed": false
   },
   "outputs": [],
   "source": [
    "import pandas as pd\n",
    "import numpy as np\n",
    "\n",
    "cars_cols = [\"symboling\", \"normalized-losses\", \"make\", \"fuel-type\", \n",
    "           \"aspiration\", \"num-of-doors\", \"body-style\", \"drive-wheels\",\n",
    "          \"engine-location\", \"wheel-base\", \"length\", \"width\", \"height\",\n",
    "          \"curb-weight\", \"engine-type\", \"num-of-cylinders\", \"engine-size\",\n",
    "          \"fuel-system\", \"bore\", \"stroke\", \"compression-ratio\", \"horsepower\",\n",
    "          \"peak-rpm\", \"city-mpg\", \"highway-mpg\", \"price\"]\n",
    "cars = pd.read_csv('imports-85.data', header=None, names=cars_cols)\n"
   ]
  },
  {
   "cell_type": "code",
   "execution_count": 2,
   "metadata": {
    "collapsed": false
   },
   "outputs": [
    {
     "name": "stdout",
     "output_type": "stream",
     "text": [
      "<class 'pandas.core.frame.DataFrame'>\n",
      "RangeIndex: 205 entries, 0 to 204\n",
      "Data columns (total 26 columns):\n",
      "symboling            205 non-null int64\n",
      "normalized-losses    205 non-null object\n",
      "make                 205 non-null object\n",
      "fuel-type            205 non-null object\n",
      "aspiration           205 non-null object\n",
      "num-of-doors         205 non-null object\n",
      "body-style           205 non-null object\n",
      "drive-wheels         205 non-null object\n",
      "engine-location      205 non-null object\n",
      "wheel-base           205 non-null float64\n",
      "length               205 non-null float64\n",
      "width                205 non-null float64\n",
      "height               205 non-null float64\n",
      "curb-weight          205 non-null int64\n",
      "engine-type          205 non-null object\n",
      "num-of-cylinders     205 non-null object\n",
      "engine-size          205 non-null int64\n",
      "fuel-system          205 non-null object\n",
      "bore                 205 non-null object\n",
      "stroke               205 non-null object\n",
      "compression-ratio    205 non-null float64\n",
      "horsepower           205 non-null object\n",
      "peak-rpm             205 non-null object\n",
      "city-mpg             205 non-null int64\n",
      "highway-mpg          205 non-null int64\n",
      "price                205 non-null object\n",
      "dtypes: float64(5), int64(5), object(16)\n",
      "memory usage: 41.7+ KB\n"
     ]
    }
   ],
   "source": [
    "cars.info()"
   ]
  },
  {
   "cell_type": "code",
   "execution_count": 3,
   "metadata": {
    "collapsed": false
   },
   "outputs": [
    {
     "data": {
      "text/html": [
       "<div>\n",
       "<style scoped>\n",
       "    .dataframe tbody tr th:only-of-type {\n",
       "        vertical-align: middle;\n",
       "    }\n",
       "\n",
       "    .dataframe tbody tr th {\n",
       "        vertical-align: top;\n",
       "    }\n",
       "\n",
       "    .dataframe thead th {\n",
       "        text-align: right;\n",
       "    }\n",
       "</style>\n",
       "<table border=\"1\" class=\"dataframe\">\n",
       "  <thead>\n",
       "    <tr style=\"text-align: right;\">\n",
       "      <th></th>\n",
       "      <th>symboling</th>\n",
       "      <th>normalized-losses</th>\n",
       "      <th>make</th>\n",
       "      <th>fuel-type</th>\n",
       "      <th>aspiration</th>\n",
       "      <th>num-of-doors</th>\n",
       "      <th>body-style</th>\n",
       "      <th>drive-wheels</th>\n",
       "      <th>engine-location</th>\n",
       "      <th>wheel-base</th>\n",
       "      <th>...</th>\n",
       "      <th>engine-size</th>\n",
       "      <th>fuel-system</th>\n",
       "      <th>bore</th>\n",
       "      <th>stroke</th>\n",
       "      <th>compression-ratio</th>\n",
       "      <th>horsepower</th>\n",
       "      <th>peak-rpm</th>\n",
       "      <th>city-mpg</th>\n",
       "      <th>highway-mpg</th>\n",
       "      <th>price</th>\n",
       "    </tr>\n",
       "  </thead>\n",
       "  <tbody>\n",
       "    <tr>\n",
       "      <th>0</th>\n",
       "      <td>3</td>\n",
       "      <td>?</td>\n",
       "      <td>alfa-romero</td>\n",
       "      <td>gas</td>\n",
       "      <td>std</td>\n",
       "      <td>two</td>\n",
       "      <td>convertible</td>\n",
       "      <td>rwd</td>\n",
       "      <td>front</td>\n",
       "      <td>88.6</td>\n",
       "      <td>...</td>\n",
       "      <td>130</td>\n",
       "      <td>mpfi</td>\n",
       "      <td>3.47</td>\n",
       "      <td>2.68</td>\n",
       "      <td>9.0</td>\n",
       "      <td>111</td>\n",
       "      <td>5000</td>\n",
       "      <td>21</td>\n",
       "      <td>27</td>\n",
       "      <td>13495</td>\n",
       "    </tr>\n",
       "    <tr>\n",
       "      <th>1</th>\n",
       "      <td>3</td>\n",
       "      <td>?</td>\n",
       "      <td>alfa-romero</td>\n",
       "      <td>gas</td>\n",
       "      <td>std</td>\n",
       "      <td>two</td>\n",
       "      <td>convertible</td>\n",
       "      <td>rwd</td>\n",
       "      <td>front</td>\n",
       "      <td>88.6</td>\n",
       "      <td>...</td>\n",
       "      <td>130</td>\n",
       "      <td>mpfi</td>\n",
       "      <td>3.47</td>\n",
       "      <td>2.68</td>\n",
       "      <td>9.0</td>\n",
       "      <td>111</td>\n",
       "      <td>5000</td>\n",
       "      <td>21</td>\n",
       "      <td>27</td>\n",
       "      <td>16500</td>\n",
       "    </tr>\n",
       "    <tr>\n",
       "      <th>2</th>\n",
       "      <td>1</td>\n",
       "      <td>?</td>\n",
       "      <td>alfa-romero</td>\n",
       "      <td>gas</td>\n",
       "      <td>std</td>\n",
       "      <td>two</td>\n",
       "      <td>hatchback</td>\n",
       "      <td>rwd</td>\n",
       "      <td>front</td>\n",
       "      <td>94.5</td>\n",
       "      <td>...</td>\n",
       "      <td>152</td>\n",
       "      <td>mpfi</td>\n",
       "      <td>2.68</td>\n",
       "      <td>3.47</td>\n",
       "      <td>9.0</td>\n",
       "      <td>154</td>\n",
       "      <td>5000</td>\n",
       "      <td>19</td>\n",
       "      <td>26</td>\n",
       "      <td>16500</td>\n",
       "    </tr>\n",
       "    <tr>\n",
       "      <th>3</th>\n",
       "      <td>2</td>\n",
       "      <td>164</td>\n",
       "      <td>audi</td>\n",
       "      <td>gas</td>\n",
       "      <td>std</td>\n",
       "      <td>four</td>\n",
       "      <td>sedan</td>\n",
       "      <td>fwd</td>\n",
       "      <td>front</td>\n",
       "      <td>99.8</td>\n",
       "      <td>...</td>\n",
       "      <td>109</td>\n",
       "      <td>mpfi</td>\n",
       "      <td>3.19</td>\n",
       "      <td>3.40</td>\n",
       "      <td>10.0</td>\n",
       "      <td>102</td>\n",
       "      <td>5500</td>\n",
       "      <td>24</td>\n",
       "      <td>30</td>\n",
       "      <td>13950</td>\n",
       "    </tr>\n",
       "    <tr>\n",
       "      <th>4</th>\n",
       "      <td>2</td>\n",
       "      <td>164</td>\n",
       "      <td>audi</td>\n",
       "      <td>gas</td>\n",
       "      <td>std</td>\n",
       "      <td>four</td>\n",
       "      <td>sedan</td>\n",
       "      <td>4wd</td>\n",
       "      <td>front</td>\n",
       "      <td>99.4</td>\n",
       "      <td>...</td>\n",
       "      <td>136</td>\n",
       "      <td>mpfi</td>\n",
       "      <td>3.19</td>\n",
       "      <td>3.40</td>\n",
       "      <td>8.0</td>\n",
       "      <td>115</td>\n",
       "      <td>5500</td>\n",
       "      <td>18</td>\n",
       "      <td>22</td>\n",
       "      <td>17450</td>\n",
       "    </tr>\n",
       "  </tbody>\n",
       "</table>\n",
       "<p>5 rows × 26 columns</p>\n",
       "</div>"
      ],
      "text/plain": [
       "   symboling normalized-losses         make fuel-type aspiration num-of-doors  \\\n",
       "0          3                 ?  alfa-romero       gas        std          two   \n",
       "1          3                 ?  alfa-romero       gas        std          two   \n",
       "2          1                 ?  alfa-romero       gas        std          two   \n",
       "3          2               164         audi       gas        std         four   \n",
       "4          2               164         audi       gas        std         four   \n",
       "\n",
       "    body-style drive-wheels engine-location  wheel-base  ...    engine-size  \\\n",
       "0  convertible          rwd           front        88.6  ...            130   \n",
       "1  convertible          rwd           front        88.6  ...            130   \n",
       "2    hatchback          rwd           front        94.5  ...            152   \n",
       "3        sedan          fwd           front        99.8  ...            109   \n",
       "4        sedan          4wd           front        99.4  ...            136   \n",
       "\n",
       "   fuel-system  bore  stroke compression-ratio horsepower  peak-rpm city-mpg  \\\n",
       "0         mpfi  3.47    2.68               9.0        111      5000       21   \n",
       "1         mpfi  3.47    2.68               9.0        111      5000       21   \n",
       "2         mpfi  2.68    3.47               9.0        154      5000       19   \n",
       "3         mpfi  3.19    3.40              10.0        102      5500       24   \n",
       "4         mpfi  3.19    3.40               8.0        115      5500       18   \n",
       "\n",
       "  highway-mpg  price  \n",
       "0          27  13495  \n",
       "1          27  16500  \n",
       "2          26  16500  \n",
       "3          30  13950  \n",
       "4          22  17450  \n",
       "\n",
       "[5 rows x 26 columns]"
      ]
     },
     "execution_count": 3,
     "metadata": {},
     "output_type": "execute_result"
    }
   ],
   "source": [
    "cars.head()"
   ]
  },
  {
   "cell_type": "markdown",
   "metadata": {},
   "source": [
    "There are no headers in the dataset. So, it is added while readin the dataset. The target column for prediction is ```price``` column. The columns that could be considered as features are the columns which provide numerical information. But, in order to determine the columns, we have to perform data cleaning. "
   ]
  },
  {
   "cell_type": "markdown",
   "metadata": {},
   "source": [
    "## Data Cleaning"
   ]
  },
  {
   "cell_type": "markdown",
   "metadata": {},
   "source": [
    "We usually can't have any missing values if we want to use them for predictive modeling. Based on the data set preview from the last step, we can tell that the ```normalized-losses``` column contains missing values represented using ```\"?\"```. Let's replace these values and look for the presence of missing values in other numeric columns. Let's also rescale the values in the numeric columns so they all range from ```0``` to ```1```."
   ]
  },
  {
   "cell_type": "code",
   "execution_count": 4,
   "metadata": {
    "collapsed": false
   },
   "outputs": [],
   "source": [
    "# Data cleaning replace ? to nan\n",
    "continuous_values_cols = ['normalized-losses', 'wheel-base', 'length', 'width', 'height', 'curb-weight', 'bore', 'stroke', 'compression-ratio', 'horsepower', 'peak-rpm', 'city-mpg', 'highway-mpg', 'price']\n",
    "numeric_cars = cars[continuous_values_cols].copy()\n",
    "numeric_cars.replace('?', np.nan, inplace=True)"
   ]
  },
  {
   "cell_type": "code",
   "execution_count": 5,
   "metadata": {
    "collapsed": false
   },
   "outputs": [
    {
     "data": {
      "text/html": [
       "<div>\n",
       "<style scoped>\n",
       "    .dataframe tbody tr th:only-of-type {\n",
       "        vertical-align: middle;\n",
       "    }\n",
       "\n",
       "    .dataframe tbody tr th {\n",
       "        vertical-align: top;\n",
       "    }\n",
       "\n",
       "    .dataframe thead th {\n",
       "        text-align: right;\n",
       "    }\n",
       "</style>\n",
       "<table border=\"1\" class=\"dataframe\">\n",
       "  <thead>\n",
       "    <tr style=\"text-align: right;\">\n",
       "      <th></th>\n",
       "      <th>normalized-losses</th>\n",
       "      <th>wheel-base</th>\n",
       "      <th>length</th>\n",
       "      <th>width</th>\n",
       "      <th>height</th>\n",
       "      <th>curb-weight</th>\n",
       "      <th>bore</th>\n",
       "      <th>stroke</th>\n",
       "      <th>compression-ratio</th>\n",
       "      <th>horsepower</th>\n",
       "      <th>peak-rpm</th>\n",
       "      <th>city-mpg</th>\n",
       "      <th>highway-mpg</th>\n",
       "      <th>price</th>\n",
       "    </tr>\n",
       "  </thead>\n",
       "  <tbody>\n",
       "    <tr>\n",
       "      <th>0</th>\n",
       "      <td>NaN</td>\n",
       "      <td>88.6</td>\n",
       "      <td>168.8</td>\n",
       "      <td>64.1</td>\n",
       "      <td>48.8</td>\n",
       "      <td>2548</td>\n",
       "      <td>3.47</td>\n",
       "      <td>2.68</td>\n",
       "      <td>9.0</td>\n",
       "      <td>111</td>\n",
       "      <td>5000</td>\n",
       "      <td>21</td>\n",
       "      <td>27</td>\n",
       "      <td>13495</td>\n",
       "    </tr>\n",
       "    <tr>\n",
       "      <th>1</th>\n",
       "      <td>NaN</td>\n",
       "      <td>88.6</td>\n",
       "      <td>168.8</td>\n",
       "      <td>64.1</td>\n",
       "      <td>48.8</td>\n",
       "      <td>2548</td>\n",
       "      <td>3.47</td>\n",
       "      <td>2.68</td>\n",
       "      <td>9.0</td>\n",
       "      <td>111</td>\n",
       "      <td>5000</td>\n",
       "      <td>21</td>\n",
       "      <td>27</td>\n",
       "      <td>16500</td>\n",
       "    </tr>\n",
       "    <tr>\n",
       "      <th>2</th>\n",
       "      <td>NaN</td>\n",
       "      <td>94.5</td>\n",
       "      <td>171.2</td>\n",
       "      <td>65.5</td>\n",
       "      <td>52.4</td>\n",
       "      <td>2823</td>\n",
       "      <td>2.68</td>\n",
       "      <td>3.47</td>\n",
       "      <td>9.0</td>\n",
       "      <td>154</td>\n",
       "      <td>5000</td>\n",
       "      <td>19</td>\n",
       "      <td>26</td>\n",
       "      <td>16500</td>\n",
       "    </tr>\n",
       "    <tr>\n",
       "      <th>3</th>\n",
       "      <td>164</td>\n",
       "      <td>99.8</td>\n",
       "      <td>176.6</td>\n",
       "      <td>66.2</td>\n",
       "      <td>54.3</td>\n",
       "      <td>2337</td>\n",
       "      <td>3.19</td>\n",
       "      <td>3.40</td>\n",
       "      <td>10.0</td>\n",
       "      <td>102</td>\n",
       "      <td>5500</td>\n",
       "      <td>24</td>\n",
       "      <td>30</td>\n",
       "      <td>13950</td>\n",
       "    </tr>\n",
       "    <tr>\n",
       "      <th>4</th>\n",
       "      <td>164</td>\n",
       "      <td>99.4</td>\n",
       "      <td>176.6</td>\n",
       "      <td>66.4</td>\n",
       "      <td>54.3</td>\n",
       "      <td>2824</td>\n",
       "      <td>3.19</td>\n",
       "      <td>3.40</td>\n",
       "      <td>8.0</td>\n",
       "      <td>115</td>\n",
       "      <td>5500</td>\n",
       "      <td>18</td>\n",
       "      <td>22</td>\n",
       "      <td>17450</td>\n",
       "    </tr>\n",
       "  </tbody>\n",
       "</table>\n",
       "</div>"
      ],
      "text/plain": [
       "  normalized-losses  wheel-base  length  width  height  curb-weight  bore  \\\n",
       "0               NaN        88.6   168.8   64.1    48.8         2548  3.47   \n",
       "1               NaN        88.6   168.8   64.1    48.8         2548  3.47   \n",
       "2               NaN        94.5   171.2   65.5    52.4         2823  2.68   \n",
       "3               164        99.8   176.6   66.2    54.3         2337  3.19   \n",
       "4               164        99.4   176.6   66.4    54.3         2824  3.19   \n",
       "\n",
       "  stroke  compression-ratio horsepower peak-rpm  city-mpg  highway-mpg  price  \n",
       "0   2.68                9.0        111     5000        21           27  13495  \n",
       "1   2.68                9.0        111     5000        21           27  16500  \n",
       "2   3.47                9.0        154     5000        19           26  16500  \n",
       "3   3.40               10.0        102     5500        24           30  13950  \n",
       "4   3.40                8.0        115     5500        18           22  17450  "
      ]
     },
     "execution_count": 5,
     "metadata": {},
     "output_type": "execute_result"
    }
   ],
   "source": [
    "numeric_cars.head()"
   ]
  },
  {
   "cell_type": "code",
   "execution_count": 6,
   "metadata": {
    "collapsed": false
   },
   "outputs": [
    {
     "name": "stdout",
     "output_type": "stream",
     "text": [
      "<class 'pandas.core.frame.DataFrame'>\n",
      "RangeIndex: 205 entries, 0 to 204\n",
      "Data columns (total 14 columns):\n",
      "normalized-losses    164 non-null object\n",
      "wheel-base           205 non-null float64\n",
      "length               205 non-null float64\n",
      "width                205 non-null float64\n",
      "height               205 non-null float64\n",
      "curb-weight          205 non-null int64\n",
      "bore                 201 non-null object\n",
      "stroke               201 non-null object\n",
      "compression-ratio    205 non-null float64\n",
      "horsepower           203 non-null object\n",
      "peak-rpm             203 non-null object\n",
      "city-mpg             205 non-null int64\n",
      "highway-mpg          205 non-null int64\n",
      "price                201 non-null object\n",
      "dtypes: float64(5), int64(3), object(6)\n",
      "memory usage: 22.5+ KB\n"
     ]
    }
   ],
   "source": [
    "numeric_cars.info()"
   ]
  },
  {
   "cell_type": "code",
   "execution_count": 7,
   "metadata": {
    "collapsed": false
   },
   "outputs": [
    {
     "data": {
      "text/plain": [
       "normalized-losses    41\n",
       "wheel-base            0\n",
       "length                0\n",
       "width                 0\n",
       "height                0\n",
       "curb-weight           0\n",
       "bore                  4\n",
       "stroke                4\n",
       "compression-ratio     0\n",
       "horsepower            2\n",
       "peak-rpm              2\n",
       "city-mpg              0\n",
       "highway-mpg           0\n",
       "price                 4\n",
       "dtype: int64"
      ]
     },
     "execution_count": 7,
     "metadata": {},
     "output_type": "execute_result"
    }
   ],
   "source": [
    "numeric_cars = numeric_cars.astype('float')\n",
    "numeric_cars.isnull().sum()"
   ]
  },
  {
   "cell_type": "code",
   "execution_count": 8,
   "metadata": {
    "collapsed": false
   },
   "outputs": [
    {
     "data": {
      "text/plain": [
       "normalized-losses    37\n",
       "wheel-base            0\n",
       "length                0\n",
       "width                 0\n",
       "height                0\n",
       "curb-weight           0\n",
       "bore                  4\n",
       "stroke                4\n",
       "compression-ratio     0\n",
       "horsepower            2\n",
       "peak-rpm              2\n",
       "city-mpg              0\n",
       "highway-mpg           0\n",
       "price                 0\n",
       "dtype: int64"
      ]
     },
     "execution_count": 8,
     "metadata": {},
     "output_type": "execute_result"
    }
   ],
   "source": [
    "# Because `price` is the column we want to predict, let's remove any rows with missing `price` values.\n",
    "numeric_cars = numeric_cars.dropna(subset=['price'])\n",
    "numeric_cars.isnull().sum()"
   ]
  },
  {
   "cell_type": "code",
   "execution_count": 9,
   "metadata": {
    "collapsed": false
   },
   "outputs": [
    {
     "data": {
      "text/plain": [
       "normalized-losses    0\n",
       "wheel-base           0\n",
       "length               0\n",
       "width                0\n",
       "height               0\n",
       "curb-weight          0\n",
       "bore                 0\n",
       "stroke               0\n",
       "compression-ratio    0\n",
       "horsepower           0\n",
       "peak-rpm             0\n",
       "city-mpg             0\n",
       "highway-mpg          0\n",
       "price                0\n",
       "dtype: int64"
      ]
     },
     "execution_count": 9,
     "metadata": {},
     "output_type": "execute_result"
    }
   ],
   "source": [
    "# Replace missing values in other columns using column means.\n",
    "numeric_cars = numeric_cars.fillna(numeric_cars.mean())\n",
    "numeric_cars.isnull().sum()"
   ]
  },
  {
   "cell_type": "code",
   "execution_count": 10,
   "metadata": {
    "collapsed": true
   },
   "outputs": [],
   "source": [
    "# Normalize all columnns to range from 0 to 1 except the target column.\n",
    "price_col = numeric_cars['price']\n",
    "numeric_cars = (numeric_cars - numeric_cars.min())/(numeric_cars.max() - numeric_cars.min())\n",
    "numeric_cars['price'] = price_col"
   ]
  },
  {
   "cell_type": "markdown",
   "metadata": {},
   "source": [
    "We have identified the numeric values and cleaned the dataset containing those values and rescaled the numeric columns from their original range to range from ```0``` to ```1```."
   ]
  },
  {
   "cell_type": "markdown",
   "metadata": {},
   "source": [
    "## Univariate Model"
   ]
  },
  {
   "cell_type": "markdown",
   "metadata": {},
   "source": [
    "Let's start with some univariate k-nearest neighbors models. Starting with simple models before moving to more complex models helps us structure your code workflow and understand the features better."
   ]
  },
  {
   "cell_type": "code",
   "execution_count": 11,
   "metadata": {
    "collapsed": false
   },
   "outputs": [
    {
     "data": {
      "text/plain": [
       "{'bore': 6780.627784685976,\n",
       " 'city-mpg': 4766.422505090134,\n",
       " 'compression-ratio': 6610.812153159129,\n",
       " 'curb-weight': 4401.118254793124,\n",
       " 'height': 8144.441042663747,\n",
       " 'highway-mpg': 4630.026798588056,\n",
       " 'horsepower': 4037.0377131537603,\n",
       " 'length': 5427.2009608367125,\n",
       " 'normalized-losses': 7330.197653434445,\n",
       " 'peak-rpm': 7697.4596964334805,\n",
       " 'stroke': 8006.529544647101,\n",
       " 'wheel-base': 5461.553997873057,\n",
       " 'width': 4704.482589704386}"
      ]
     },
     "execution_count": 11,
     "metadata": {},
     "output_type": "execute_result"
    }
   ],
   "source": [
    "# Function to return RMSE\n",
    "from sklearn.neighbors import KNeighborsRegressor\n",
    "from sklearn.metrics import mean_squared_error\n",
    "\n",
    "def knn_train_test(features, target, df):\n",
    "    knn = KNeighborsRegressor()\n",
    "    np.random.seed(1)\n",
    "    \n",
    "    # Randomize the order of data for splitting\n",
    "    shuffled_index = np.random.permutation(df.index)\n",
    "    random_df = df.reindex(shuffled_index)\n",
    "    \n",
    "    # Splitting data into test and training set\n",
    "    last_index = int(len(random_df) / 2)\n",
    "    train_df = random_df[: last_index]\n",
    "    test_df = random_df[last_index:]\n",
    "    \n",
    "    # Fitting the features with the model\n",
    "    knn.fit(train_df[features], train_df[target])\n",
    "    \n",
    "    # Performing prediction\n",
    "    predicted_price = knn.predict(test_df[features])\n",
    "    \n",
    "    # Calculate MSE and RMSE\n",
    "    mse = mean_squared_error(test_df[target], predicted_price)\n",
    "    rmse = mse ** (1/2)\n",
    "    \n",
    "    return rmse\n",
    "\n",
    "rmse_results = {}\n",
    "train_cols = numeric_cars.columns.drop('price')\n",
    "\n",
    "# For each column, train the dataset and predict values\n",
    "\n",
    "for col in train_cols:\n",
    "    rmse_results[col] = knn_train_test([col], 'price', numeric_cars)\n",
    "\n",
    "rmse_results"
   ]
  },
  {
   "cell_type": "markdown",
   "metadata": {},
   "source": [
    "From the univariate model, the variance in price value depends more on the ```horsepower``` then any other columns. But, this may create bias. So, we need the look into multivariate models to predict better prices."
   ]
  },
  {
   "cell_type": "code",
   "execution_count": 12,
   "metadata": {
    "collapsed": false
   },
   "outputs": [
    {
     "data": {
      "text/plain": [
       "{'bore': {1: 8602.58848450066,\n",
       "  3: 6984.239489480916,\n",
       "  5: 6780.627784685976,\n",
       "  7: 6878.097965921532,\n",
       "  9: 6866.808502038413},\n",
       " 'city-mpg': {1: 5901.143574354764,\n",
       "  3: 4646.746408727155,\n",
       "  5: 4766.422505090134,\n",
       "  7: 5232.523034167316,\n",
       "  9: 5465.209492527533},\n",
       " 'compression-ratio': {1: 8087.205346523092,\n",
       "  3: 7375.063685578359,\n",
       "  5: 6610.812153159129,\n",
       "  7: 6732.801282941515,\n",
       "  9: 7024.485525463435},\n",
       " 'curb-weight': {1: 5264.290230758878,\n",
       "  3: 5022.318011757233,\n",
       "  5: 4401.118254793124,\n",
       "  7: 4330.608104418053,\n",
       "  9: 4632.044474454401},\n",
       " 'height': {1: 8904.04645636071,\n",
       "  3: 8277.609643045525,\n",
       "  5: 8144.441042663747,\n",
       "  7: 7679.598124393773,\n",
       "  9: 7811.03606291223},\n",
       " 'highway-mpg': {1: 6025.594966720739,\n",
       "  3: 4617.305019788554,\n",
       "  5: 4630.026798588056,\n",
       "  7: 4796.061440186946,\n",
       "  9: 5278.358056953987},\n",
       " 'horsepower': {1: 4170.054848037801,\n",
       "  3: 4020.8492630885394,\n",
       "  5: 4037.0377131537603,\n",
       "  7: 4353.811860277134,\n",
       "  9: 4515.135617419103},\n",
       " 'length': {1: 4628.45550121557,\n",
       "  3: 5129.8358210721635,\n",
       "  5: 5427.2009608367125,\n",
       "  7: 5313.427720847974,\n",
       "  9: 5383.054514833446},\n",
       " 'normalized-losses': {1: 7846.750605148984,\n",
       "  3: 7500.5698123109905,\n",
       "  5: 7330.197653434445,\n",
       "  7: 7756.421586234123,\n",
       "  9: 7688.096096891432},\n",
       " 'peak-rpm': {1: 9511.480067750124,\n",
       "  3: 8537.550899973421,\n",
       "  5: 7697.4596964334805,\n",
       "  7: 7510.294160083481,\n",
       "  9: 7340.041341263401},\n",
       " 'stroke': {1: 9116.495955406906,\n",
       "  3: 7338.68466990294,\n",
       "  5: 8006.529544647101,\n",
       "  7: 7803.937796804327,\n",
       "  9: 7735.554366079291},\n",
       " 'wheel-base': {1: 4493.734068810494,\n",
       "  3: 5120.161506064513,\n",
       "  5: 5461.553997873057,\n",
       "  7: 5448.1070513823315,\n",
       "  9: 5738.405685192312},\n",
       " 'width': {1: 4559.257297950061,\n",
       "  3: 4606.413692169901,\n",
       "  5: 4704.482589704386,\n",
       "  7: 4571.485046194653,\n",
       "  9: 4652.914172067787}}"
      ]
     },
     "execution_count": 12,
     "metadata": {},
     "output_type": "execute_result"
    }
   ],
   "source": [
    "# Function to take into account the k value\n",
    "def knn_train_test(features, target, df, k):\n",
    "    \n",
    "    np.random.seed(1)\n",
    "    \n",
    "    # Randomize the order of data for splitting\n",
    "    shuffled_index = np.random.permutation(df.index)\n",
    "    random_df = df.reindex(shuffled_index)\n",
    "    \n",
    "    # Splitting data into test and training set\n",
    "    last_index = int(len(random_df) / 2)\n",
    "    train_df = random_df[: last_index]\n",
    "    test_df = random_df[last_index:]\n",
    "    rmses = {}\n",
    "    for val in k:\n",
    "        knn = KNeighborsRegressor(n_neighbors=val)\n",
    "        # Fitting the features with the model\n",
    "        knn.fit(train_df[features], train_df[target])\n",
    "\n",
    "        # Performing prediction\n",
    "        predicted_price = knn.predict(test_df[features])\n",
    "\n",
    "        # Calculate MSE and RMSE\n",
    "        mse = mean_squared_error(test_df[target], predicted_price)\n",
    "        rmse = mse ** (1/2)\n",
    "        rmses[val] = rmse\n",
    "        \n",
    "    return rmses\n",
    "\n",
    "rmse_results = {}\n",
    "train_cols = numeric_cars.columns.drop('price')\n",
    "k = [1,3,5,7,9]\n",
    "# For each column, train the dataset and predict values\n",
    "\n",
    "for col in train_cols:\n",
    "    rmse_results[col] = knn_train_test([col], 'price', numeric_cars, k)\n",
    "\n",
    "rmse_results\n"
   ]
  },
  {
   "cell_type": "code",
   "execution_count": 13,
   "metadata": {
    "collapsed": false
   },
   "outputs": [
    {
     "data": {
      "image/png": "[encoded data removed]",
      "text/plain": [
       "<matplotlib.figure.Figure at 0x7f34e4bb82b0>"
      ]
     },
     "metadata": {},
     "output_type": "display_data"
    }
   ],
   "source": [
    "# Visualizing result using line plot\n",
    "import matplotlib.pyplot as plt\n",
    "%matplotlib inline\n",
    "\n",
    "for key, value in rmse_results.items():\n",
    "    x_vals = list(value.keys())\n",
    "    y_vals = list(value.values())\n",
    "    \n",
    "    plt.plot(x_vals, y_vals)\n",
    "    plt.xlabel(\"k value\")\n",
    "    plt.ylabel(\"rmse\")"
   ]
  },
  {
   "cell_type": "markdown",
   "metadata": {},
   "source": [
    "## Multivariate Model"
   ]
  },
  {
   "cell_type": "markdown",
   "metadata": {},
   "source": [
    "Let's modify the ```knn_train_test()``` function we wrote in the last step to work with multiple columns."
   ]
  },
  {
   "cell_type": "code",
   "execution_count": 14,
   "metadata": {
    "collapsed": false
   },
   "outputs": [
    {
     "data": {
      "text/plain": [
       "['horsepower',\n",
       " 'width',\n",
       " 'curb-weight',\n",
       " 'highway-mpg',\n",
       " 'length',\n",
       " 'city-mpg',\n",
       " 'wheel-base',\n",
       " 'compression-ratio',\n",
       " 'bore',\n",
       " 'normalized-losses',\n",
       " 'stroke',\n",
       " 'peak-rpm',\n",
       " 'height']"
      ]
     },
     "execution_count": 14,
     "metadata": {},
     "output_type": "execute_result"
    }
   ],
   "source": [
    "# Sorting the columns based on the RMSE values obtained previously\n",
    "\n",
    "sorted_columns = {}\n",
    "\n",
    "for k, v in rmse_results.items():\n",
    "    rmse_values = list(v.values())\n",
    "    avg_value = sum(rmse_values) / len(rmse_values)\n",
    "    sorted_columns[k] = avg_value\n",
    "\n",
    "sorted_columns = sorted(sorted_columns, key=sorted_columns.get)\n",
    "sorted_columns"
   ]
  },
  {
   "cell_type": "code",
   "execution_count": 15,
   "metadata": {
    "collapsed": false
   },
   "outputs": [
    {
     "data": {
      "text/plain": [
       "{'best 2 columns': {5: 3589.3132622073304},\n",
       " 'best 3 columns': {5: 3305.9401397969677},\n",
       " 'best 4 columns': {5: 3358.6915801682458},\n",
       " 'best 5 columns': {5: 3665.546673045813}}"
      ]
     },
     "execution_count": 15,
     "metadata": {},
     "output_type": "execute_result"
    }
   ],
   "source": [
    "rmse_results = {}\n",
    "k = [5]\n",
    "# For each column, train the dataset and predict values\n",
    "\n",
    "for i in range(2, 6):\n",
    "    rmse_results['best {} columns'.format(i)] = knn_train_test(sorted_columns[:i], 'price', numeric_cars, k)\n",
    "\n",
    "rmse_results"
   ]
  },
  {
   "cell_type": "markdown",
   "metadata": {},
   "source": [
    "We have determined the RMSE values for multiple columns as shown here."
   ]
  },
  {
   "cell_type": "markdown",
   "metadata": {},
   "source": [
    "## Hyperparameter tuning"
   ]
  },
  {
   "cell_type": "markdown",
   "metadata": {},
   "source": [
    "Let's now optimize the model that performed the best in the previous step."
   ]
  },
  {
   "cell_type": "code",
   "execution_count": 16,
   "metadata": {
    "collapsed": false
   },
   "outputs": [
    {
     "data": {
      "text/plain": [
       "{'best 2 columns': {1: 4061.9613050304106,\n",
       "  2: 3497.49936199118,\n",
       "  3: 3402.8692636542114,\n",
       "  4: 3587.0044198356923,\n",
       "  5: 3589.3132622073304,\n",
       "  6: 3680.062981095498,\n",
       "  7: 3756.92796407086,\n",
       "  8: 3937.770418264052,\n",
       "  9: 4078.3485919700097,\n",
       "  10: 4163.828373808731,\n",
       "  11: 4297.135962941241,\n",
       "  12: 4370.753019740529,\n",
       "  13: 4500.462028689254,\n",
       "  14: 4604.156707686779,\n",
       "  15: 4595.345097101211,\n",
       "  16: 4605.433669910023,\n",
       "  17: 4611.2845838376215,\n",
       "  18: 4598.88218482117,\n",
       "  19: 4579.964891966457,\n",
       "  20: 4653.966845712387,\n",
       "  21: 4759.076059393234,\n",
       "  22: 4807.805949321809,\n",
       "  23: 4865.320887129985,\n",
       "  24: 4910.715769042787,\n",
       "  25: 4921.936353813013},\n",
       " 'best 3 columns': {1: 3013.0109985241875,\n",
       "  2: 2813.285969825997,\n",
       "  3: 3171.585284478674,\n",
       "  4: 3182.3137417981943,\n",
       "  5: 3305.9401397969677,\n",
       "  6: 3522.506848900376,\n",
       "  7: 3774.3772094554106,\n",
       "  8: 3978.969124021116,\n",
       "  9: 3992.923680588881,\n",
       "  10: 4076.2381473803043,\n",
       "  11: 4156.388331131807,\n",
       "  12: 4201.10713385948,\n",
       "  13: 4303.62676861325,\n",
       "  14: 4359.693296989702,\n",
       "  15: 4371.771103372868,\n",
       "  16: 4394.4846551644205,\n",
       "  17: 4510.399710057406,\n",
       "  18: 4584.310961865486,\n",
       "  19: 4636.62620477063,\n",
       "  20: 4664.465847866811,\n",
       "  21: 4724.096637428273,\n",
       "  22: 4752.535484102914,\n",
       "  23: 4808.703310452101,\n",
       "  24: 4858.9452710176065,\n",
       "  25: 4904.576331966618},\n",
       " 'best 4 columns': {1: 2600.746383728188,\n",
       "  2: 2725.4325072335123,\n",
       "  3: 3108.8580314362966,\n",
       "  4: 3217.3135209486827,\n",
       "  5: 3358.6915801682458,\n",
       "  6: 3633.1687033129465,\n",
       "  7: 3896.127441396644,\n",
       "  8: 4002.8383900652543,\n",
       "  9: 4055.5309369929582,\n",
       "  10: 4128.67807741542,\n",
       "  11: 4249.827289347268,\n",
       "  12: 4344.035898237492,\n",
       "  13: 4402.995293166156,\n",
       "  14: 4424.314365328619,\n",
       "  15: 4442.943179452285,\n",
       "  16: 4528.57927503009,\n",
       "  17: 4572.28806185627,\n",
       "  18: 4604.034045947238,\n",
       "  19: 4660.524954508328,\n",
       "  20: 4735.352015758023,\n",
       "  21: 4742.329532242572,\n",
       "  22: 4763.606459864159,\n",
       "  23: 4807.076030845482,\n",
       "  24: 4848.127192424658,\n",
       "  25: 4873.610609928121},\n",
       " 'best 5 columns': {1: 2773.8991269216394,\n",
       "  2: 2936.079965592973,\n",
       "  3: 3152.3415515178144,\n",
       "  4: 3488.57822210674,\n",
       "  5: 3665.546673045813,\n",
       "  6: 3563.9910249785435,\n",
       "  7: 3714.642677357888,\n",
       "  8: 3927.6655582704293,\n",
       "  9: 4074.724411578548,\n",
       "  10: 4202.692919892065,\n",
       "  11: 4228.8377103033245,\n",
       "  12: 4280.7222580306225,\n",
       "  13: 4323.694733441248,\n",
       "  14: 4341.598003940922,\n",
       "  15: 4381.910642108479,\n",
       "  16: 4462.210967318207,\n",
       "  17: 4512.666161759793,\n",
       "  18: 4549.02427742861,\n",
       "  19: 4625.542238703432,\n",
       "  20: 4680.4075341436155,\n",
       "  21: 4769.300287838951,\n",
       "  22: 4813.1714929806085,\n",
       "  23: 4871.956026848068,\n",
       "  24: 4922.889655107399,\n",
       "  25: 4962.858865731754}}"
      ]
     },
     "execution_count": 16,
     "metadata": {},
     "output_type": "execute_result"
    }
   ],
   "source": [
    "rmse_results = {}\n",
    "k = range(1, 26)\n",
    "# For each column, train the dataset and predict values\n",
    "\n",
    "for i in range(2, 6):\n",
    "    rmse_results['best {} columns'.format(i)] = knn_train_test(sorted_columns[:i], 'price', numeric_cars, k)\n",
    "\n",
    "rmse_results"
   ]
  },
  {
   "cell_type": "code",
   "execution_count": 17,
   "metadata": {
    "collapsed": false
   },
   "outputs": [
    {
     "data": {
      "image/png": "[encoded data removed]",
      "text/plain": [
       "<matplotlib.figure.Figure at 0x7f34e1cc7320>"
      ]
     },
     "metadata": {},
     "output_type": "display_data"
    }
   ],
   "source": [
    "# Visulaize the RMSE value for finding optimal k value\n",
    "\n",
    "for k, v in rmse_results.items():\n",
    "    x = list(v.keys())\n",
    "    y = list(v.values())\n",
    "    \n",
    "    plt.plot(x, y, label=k)\n",
    "    plt.xlabel(\"k value\")\n",
    "    plt.ylabel(\"rmse\")\n",
    "    plt.legend(loc=\"lower right\")"
   ]
  },
  {
   "cell_type": "markdown",
   "metadata": {},
   "source": [
    "From the plot, it can be infered that the model does better predictions for the value of ```k``` as ```1``` when considering best 4 and 5 columns, ```2``` for best 3 columns and ```3``` for best 2 columns. As the k value increases further, the value of Root mean squared error also increases, thereby increasing the variance. It can also be seen that the k value is the least when considering the columns ```horsepower```, ```width```, ```curb-weight``` and ```highway-mpg``` as features (i.e. best 4 columns) for predicting the car prices. Thus, we can predict the price of the car with more accuracy when considering these 4 features with k as ```1```."
   ]
  },
  {
   "cell_type": "code",
   "execution_count": null,
   "metadata": {
    "collapsed": true
   },
   "outputs": [],
   "source": []
  }
 ],
 "metadata": {
  "kernelspec": {
   "display_name": "Python 3",
   "language": "python",
   "name": "python3"
  },
  "language_info": {
   "codemirror_mode": {
    "name": "ipython",
    "version": 3
   },
   "file_extension": ".py",
   "mimetype": "text/x-python",
   "name": "python",
   "nbconvert_exporter": "python",
   "pygments_lexer": "ipython3",
   "version": "3.4.3"
  }
 },
 "nbformat": 4,
 "nbformat_minor": 2
}
